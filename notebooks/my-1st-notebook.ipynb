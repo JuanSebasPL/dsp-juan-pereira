{
 "cells": [
  {
   "cell_type": "code",
   "execution_count": 3,
   "id": "3fd01a01-762e-4c82-9ef3-15762cddf64f",
   "metadata": {},
   "outputs": [
    {
     "data": {
      "text/plain": [
       "array([[82, 44, 40],\n",
       "       [75,  6,  6],\n",
       "       [67, 40, 75],\n",
       "       [81, 79, 31],\n",
       "       [41, 69,  7],\n",
       "       [51, 73, 79],\n",
       "       [ 7, 57, 54],\n",
       "       [42, 18, 31],\n",
       "       [93, 46, 97],\n",
       "       [ 4, 35, 92]])"
      ]
     },
     "metadata": {},
     "output_type": "display_data"
    }
   ],
   "source": [
    "import numpy as np\n",
    "from IPython.display import display\n",
    "\n",
    "arrayExample = np.random.randint(0, 100, size=(10, 3))\n",
    "display(arrayExample)"
   ]
  },
  {
   "cell_type": "code",
   "execution_count": null,
   "id": "65cd24c6-da1c-4b29-bf84-c6a940734e4e",
   "metadata": {},
   "outputs": [],
   "source": []
  }
 ],
 "metadata": {
  "kernelspec": {
   "display_name": "ml",
   "language": "python",
   "name": "python3"
  },
  "language_info": {
   "codemirror_mode": {
    "name": "ipython",
    "version": 3
   },
   "file_extension": ".py",
   "mimetype": "text/x-python",
   "name": "python",
   "nbconvert_exporter": "python",
   "pygments_lexer": "ipython3",
   "version": "3.9.23"
  }
 },
 "nbformat": 4,
 "nbformat_minor": 5
}
