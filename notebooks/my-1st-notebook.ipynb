{
 "cells": [
  {
   "cell_type": "code",
   "execution_count": 1,
   "id": "3fd01a01-762e-4c82-9ef3-15762cddf64f",
   "metadata": {},
   "outputs": [
    {
     "data": {
      "text/plain": [
       "array([[63,  2,  5],\n",
       "       [54, 69, 67],\n",
       "       [11, 96, 37],\n",
       "       [40, 23, 94],\n",
       "       [73, 20, 11],\n",
       "       [27, 76, 84],\n",
       "       [80, 52, 16],\n",
       "       [56, 44, 34],\n",
       "       [49, 95, 13],\n",
       "       [89, 19, 56]])"
      ]
     },
     "metadata": {},
     "output_type": "display_data"
    }
   ],
   "source": [
    "import numpy as np\n",
    "from IPython.display import display\n",
    "\n",
    "arrayExample = np.random.randint(0, 100, size=(10, 3))\n",
    "display(arrayExample)"
   ]
  },
  {
   "cell_type": "code",
   "execution_count": null,
   "id": "65cd24c6-da1c-4b29-bf84-c6a940734e4e",
   "metadata": {},
   "outputs": [],
   "source": []
  }
 ],
 "metadata": {
  "kernelspec": {
   "display_name": "Python 3 (ipykernel)",
   "language": "python",
   "name": "python3"
  },
  "language_info": {
   "codemirror_mode": {
    "name": "ipython",
    "version": 3
   },
   "file_extension": ".py",
   "mimetype": "text/x-python",
   "name": "python",
   "nbconvert_exporter": "python",
   "pygments_lexer": "ipython3",
   "version": "3.9.23"
  }
 },
 "nbformat": 4,
 "nbformat_minor": 5
}
